{
 "cells": [
  {
   "cell_type": "code",
   "execution_count": null,
   "id": "a9e14295",
   "metadata": {},
   "outputs": [],
   "source": [
    "import boto3\n",
    "import json\n",
    "\n",
    "endpoint = 'sagemaker-scikit-learn-2022-12-09-03-22-52-607'\n",
    "\n",
    "client = boto3.client('sagemaker-runtime','us-east-1')\n",
    "\n",
    "request_body = {\"Input\": [[0, 2.221508],[1,-1.384627]]}\n",
    "data = json.loads(json.dumps(request_body))\n",
    "payload = json.dumps(data)\n",
    "\n",
    "response = client.invoke_endpoint(\n",
    "    EndpointName=endpoint,\n",
    "    Body=payload,\n",
    "    ContentType='application/json'\n",
    ")\n",
    "\n",
    "prediction = response['Body'].read()\n",
    "print(prediction)"
   ]
  }
 ],
 "metadata": {
  "kernelspec": {
   "display_name": "",
   "name": ""
  },
  "language_info": {
   "codemirror_mode": {
    "name": "ipython",
    "version": 3
   },
   "file_extension": ".py",
   "mimetype": "text/x-python",
   "name": "python",
   "nbconvert_exporter": "python",
   "pygments_lexer": "ipython3",
   "version": "3.8.12"
  }
 },
 "nbformat": 4,
 "nbformat_minor": 5
}
